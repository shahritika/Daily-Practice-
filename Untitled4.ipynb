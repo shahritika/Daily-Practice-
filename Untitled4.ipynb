{
 "cells": [
  {
   "cell_type": "code",
   "execution_count": 2,
   "id": "cb637a6c-a6c9-4a8f-bde5-3b708c116c54",
   "metadata": {},
   "outputs": [
    {
     "name": "stdout",
     "output_type": "stream",
     "text": [
      "Predicted monthly bill for 5 hours of daily usage: 72.00704225352112\n",
      "Slope (increase per additional hour): 11.396713615023478\n",
      "Intercept (base bill): 15.023474178403731\n"
     ]
    }
   ],
   "source": [
    "# Import necessary libraries\n",
    "import numpy as np                    # NumPy is used for handling arrays, which organize our dataset\n",
    "from sklearn.linear_model import LinearRegression  # Scikit-Learn's LinearRegression is used for our model\n",
    "\n",
    "# Define the dataset\n",
    "# X represents the average daily usage in hours (our input feature)\n",
    "# y represents the monthly bill in dollars (our target variable)\n",
    "X = np.array([[3], [4], [6], [7], [8], [10], [12]])  # input data formatted as a 2D array\n",
    "y = np.array([50, 60, 80, 95, 110, 130, 150])        # output labels as a 1D array\n",
    "\n",
    "# Initialize the linear regression model\n",
    "model = LinearRegression()  # This creates an instance of LinearRegression, ready to fit data\n",
    "\n",
    "# Train the model on the dataset\n",
    "model.fit(X, y)             # fit() finds the best-fit line that minimizes error between predictions and actual values\n",
    "\n",
    "# Make a prediction\n",
    "# Now, let's predict the monthly bill for a household that uses electricity for 5 hours a day\n",
    "predicted_bill_5_hours = model.predict(np.array([[5]]))  # predict() applies the model to a new input\n",
    "print(\"Predicted monthly bill for 5 hours of daily usage:\", predicted_bill_5_hours[0])  # outputs the predicted value\n",
    "\n",
    "# Extract and print model parameters\n",
    "# The slope (rate of increase per additional hour) and intercept (baseline monthly bill) are useful for interpretation\n",
    "slope = model.coef_[0]        # model.coef_ gives the slope of the line, showing bill increase per hour\n",
    "intercept = model.intercept_   # model.intercept_ is the y-intercept, showing the starting value of the bill\n",
    "print(\"Slope (increase per additional hour):\", slope)\n",
    "print(\"Intercept (base bill):\", intercept)"
   ]
  },
  {
   "cell_type": "code",
   "execution_count": null,
   "id": "e5f38757-55b1-4c08-8b3f-3b928068fb05",
   "metadata": {},
   "outputs": [],
   "source": []
  }
 ],
 "metadata": {
  "kernelspec": {
   "display_name": "Python 3 (ipykernel)",
   "language": "python",
   "name": "python3"
  },
  "language_info": {
   "codemirror_mode": {
    "name": "ipython",
    "version": 3
   },
   "file_extension": ".py",
   "mimetype": "text/x-python",
   "name": "python",
   "nbconvert_exporter": "python",
   "pygments_lexer": "ipython3",
   "version": "3.12.4"
  }
 },
 "nbformat": 4,
 "nbformat_minor": 5
}
