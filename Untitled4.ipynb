{
 "cells": [
  {
   "cell_type": "markdown",
   "id": "338134ad-fe35-4cd0-b93b-381d01a08a5d",
   "metadata": {},
   "source": [
    "# Calculator in Python"
   ]
  },
  {
   "cell_type": "code",
   "execution_count": 3,
   "id": "e077c899-16da-42a2-9348-7db795a1120f",
   "metadata": {},
   "outputs": [
    {
     "name": "stdout",
     "output_type": "stream",
     "text": [
      "\n",
      "+ Add\n",
      "- Subtract\n",
      "* Multiply\n",
      "/ Divide\n",
      "\n"
     ]
    },
    {
     "name": "stdin",
     "output_type": "stream",
     "text": [
      "Enter the value 20\n",
      "Enter the value 40\n",
      "Enter The Opr.. +\n"
     ]
    },
    {
     "name": "stdout",
     "output_type": "stream",
     "text": [
      "60\n",
      "invalid opr...\n"
     ]
    }
   ],
   "source": [
    "print('''\n",
    "+ Add\n",
    "- Subtract\n",
    "* Multiply\n",
    "/ Divide\n",
    "''')\n",
    "num1= int(input(\"Enter the value\"))\n",
    "num2=int(input(\"Enter the value\"))\n",
    "opr=input(\"Enter The Opr..(+,-,*,/)\")\n",
    "if opr==\"+\":\n",
    "    print(num1+num2)\n",
    "if opr==\"-\":\n",
    "    print(num1-num2)\n",
    "if opr==\"*\":\n",
    "    print(num1*num2)\n",
    "if opr==\"/\":\n",
    "    print(num1/num2)\n",
    "    if opr!=\"+\" and opr!=\"-\"and opr!=\"*\"andopr\n",
    "else:\n",
    "    print(\"invalid opr...\")\n"
   ]
  },
  {
   "cell_type": "code",
   "execution_count": null,
   "id": "fd663fd6-1176-4814-8709-d7ef5bc06d27",
   "metadata": {},
   "outputs": [],
   "source": []
  }
 ],
 "metadata": {
  "kernelspec": {
   "display_name": "Python 3 (ipykernel)",
   "language": "python",
   "name": "python3"
  },
  "language_info": {
   "codemirror_mode": {
    "name": "ipython",
    "version": 3
   },
   "file_extension": ".py",
   "mimetype": "text/x-python",
   "name": "python",
   "nbconvert_exporter": "python",
   "pygments_lexer": "ipython3",
   "version": "3.12.4"
  }
 },
 "nbformat": 4,
 "nbformat_minor": 5
}
