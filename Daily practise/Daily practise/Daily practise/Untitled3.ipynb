{
 "cells": [
  {
   "cell_type": "markdown",
   "id": "91bd4f6c-555c-4094-9a86-9548946002da",
   "metadata": {},
   "source": [
    "# Python Conditional statements"
   ]
  },
  {
   "cell_type": "code",
   "execution_count": 44,
   "id": "06917ec2-2b39-43d6-8a3c-c69ec7ff4a71",
   "metadata": {},
   "outputs": [
    {
     "name": "stdout",
     "output_type": "stream",
     "text": [
      "21 odd number\n"
     ]
    }
   ],
   "source": [
    "a=21 # First condition\n",
    "if a%2==0:\n",
    "   print(a, \"Even number\")\n",
    "else: # Second condition\n",
    "    print(a, \"odd number\")\n",
    "\n"
   ]
  },
  {
   "cell_type": "code",
   "execution_count": 66,
   "id": "7dfb752e-1699-4edb-a441-6c8d1c52f932",
   "metadata": {},
   "outputs": [
    {
     "name": "stdin",
     "output_type": "stream",
     "text": [
      "Enter the value:- 15\n"
     ]
    },
    {
     "ename": "NameError",
     "evalue": "name 'student' is not defined",
     "output_type": "error",
     "traceback": [
      "\u001b[1;31m---------------------------------------------------------------------------\u001b[0m",
      "\u001b[1;31mNameError\u001b[0m                                 Traceback (most recent call last)",
      "Cell \u001b[1;32mIn[66], line 2\u001b[0m\n\u001b[0;32m      1\u001b[0m Student\u001b[38;5;241m=\u001b[39m\u001b[38;5;28mint\u001b[39m(\u001b[38;5;28minput\u001b[39m(\u001b[38;5;124m\"\u001b[39m\u001b[38;5;124mEnter the value:-\u001b[39m\u001b[38;5;124m\"\u001b[39m))\n\u001b[1;32m----> 2\u001b[0m \u001b[38;5;28;01mif\u001b[39;00m student\u001b[38;5;241m>\u001b[39m\u001b[38;5;241m=\u001b[39m\u001b[38;5;241m60\u001b[39m:\n\u001b[0;32m      3\u001b[0m     \u001b[38;5;28mprint\u001b[39m(\u001b[38;5;124m\"\u001b[39m\u001b[38;5;124mfirst Div\u001b[39m\u001b[38;5;124m\"\u001b[39m)\n\u001b[0;32m      4\u001b[0m \u001b[38;5;28;01melif\u001b[39;00m student\u001b[38;5;241m>\u001b[39m\u001b[38;5;241m=\u001b[39m\u001b[38;5;241m48\u001b[39m:\n",
      "\u001b[1;31mNameError\u001b[0m: name 'student' is not defined"
     ]
    }
   ],
   "source": [
    "Student=int(input(\"Enter the value:-\"))\n",
    "if student>=60:\n",
    "    print(\"first Div\")\n",
    "elif student>=48:\n",
    "    print(\"second Div\")\n",
    "elif student>=35:\n",
    "    print(\"third div\")\n",
    "else:\n",
    "    print(fail)"
   ]
  },
  {
   "cell_type": "code",
   "execution_count": null,
   "id": "dee02136-b7c0-4bb8-b97c-5d2f32f16226",
   "metadata": {},
   "outputs": [],
   "source": []
  }
 ],
 "metadata": {
  "kernelspec": {
   "display_name": "Python 3 (ipykernel)",
   "language": "python",
   "name": "python3"
  },
  "language_info": {
   "codemirror_mode": {
    "name": "ipython",
    "version": 3
   },
   "file_extension": ".py",
   "mimetype": "text/x-python",
   "name": "python",
   "nbconvert_exporter": "python",
   "pygments_lexer": "ipython3",
   "version": "3.12.4"
  }
 },
 "nbformat": 4,
 "nbformat_minor": 5
}
