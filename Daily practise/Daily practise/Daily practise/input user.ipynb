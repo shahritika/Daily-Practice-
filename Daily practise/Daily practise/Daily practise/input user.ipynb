{
 "cells": [
  {
   "cell_type": "markdown",
   "id": "435eec73-9712-4d81-91c8-4b6e65293b0a",
   "metadata": {},
   "source": [
    "# Getting User Input and Types Casting"
   ]
  },
  {
   "cell_type": "code",
   "execution_count": 9,
   "id": "6aee3768-7ee6-4979-9d70-352578034553",
   "metadata": {},
   "outputs": [
    {
     "name": "stdin",
     "output_type": "stream",
     "text": [
      "Enter The Value1:- 10\n"
     ]
    },
    {
     "name": "stdout",
     "output_type": "stream",
     "text": [
      "10\n"
     ]
    }
   ],
   "source": [
    "a=int(input(\"Enter The Value1:-\")) # integer value\n",
    "print(a)"
   ]
  },
  {
   "cell_type": "code",
   "execution_count": 17,
   "id": "4053e769-5844-4171-9486-dbc651215e85",
   "metadata": {},
   "outputs": [
    {
     "name": "stdin",
     "output_type": "stream",
     "text": [
      "Enter The Value2:- 20\n"
     ]
    },
    {
     "name": "stdout",
     "output_type": "stream",
     "text": [
      "20\n",
      "30\n"
     ]
    }
   ],
   "source": [
    "b=int(input(\"Enter The Value2:-\"))\n",
    "print(b)\n"
   ]
  },
  {
   "cell_type": "code",
   "execution_count": 19,
   "id": "14ac3584-6800-4f1d-b03d-ea0cdedf45cd",
   "metadata": {},
   "outputs": [
    {
     "name": "stdout",
     "output_type": "stream",
     "text": [
      "30\n"
     ]
    }
   ],
   "source": [
    "print(a+b)"
   ]
  },
  {
   "cell_type": "code",
   "execution_count": 23,
   "id": "52b78b34-8881-4f85-84a2-eb445a6677be",
   "metadata": {},
   "outputs": [
    {
     "name": "stdin",
     "output_type": "stream",
     "text": [
      "Enter The Value1:- 10.5\n",
      "Enter The Value2:- 9.5\n"
     ]
    },
    {
     "name": "stdout",
     "output_type": "stream",
     "text": [
      "10.5 9.5\n"
     ]
    }
   ],
   "source": [
    "a=float(input(\"Enter The Value1:-\")) #float value\n",
    "b=float(input(\"Enter The Value2:-\"))\n",
    "print(a, b)"
   ]
  },
  {
   "cell_type": "code",
   "execution_count": 25,
   "id": "edd64ac8-c13b-4938-868b-bd9f6ab87383",
   "metadata": {},
   "outputs": [
    {
     "name": "stdout",
     "output_type": "stream",
     "text": [
      "20.0\n"
     ]
    }
   ],
   "source": [
    "print(a+b)"
   ]
  },
  {
   "cell_type": "code",
   "execution_count": 27,
   "id": "66e53d81-75b0-484d-a58c-bc542569362f",
   "metadata": {},
   "outputs": [
    {
     "name": "stdin",
     "output_type": "stream",
     "text": [
      "Enter The Value1:- 9.99\n",
      "Enter The Value2:- 10\n"
     ]
    },
    {
     "name": "stdout",
     "output_type": "stream",
     "text": [
      "9.99 10\n"
     ]
    }
   ],
   "source": [
    "a=eval(input(\"Enter The Value1:-\")) #eval value\n",
    "b=eval(input(\"Enter The Value2:-\"))\n",
    "print(a, b)"
   ]
  },
  {
   "cell_type": "code",
   "execution_count": 29,
   "id": "d656f0bf-db11-4971-add4-b80507afda7f",
   "metadata": {},
   "outputs": [
    {
     "name": "stdout",
     "output_type": "stream",
     "text": [
      "19.990000000000002\n"
     ]
    }
   ],
   "source": [
    "print(a+b)\n",
    "print("
   ]
  },
  {
   "cell_type": "code",
   "execution_count": null,
   "id": "5b15ce9a-0b07-4400-b407-aec52b75c9b3",
   "metadata": {},
   "outputs": [],
   "source": []
  }
 ],
 "metadata": {
  "kernelspec": {
   "display_name": "Python 3 (ipykernel)",
   "language": "python",
   "name": "python3"
  },
  "language_info": {
   "codemirror_mode": {
    "name": "ipython",
    "version": 3
   },
   "file_extension": ".py",
   "mimetype": "text/x-python",
   "name": "python",
   "nbconvert_exporter": "python",
   "pygments_lexer": "ipython3",
   "version": "3.12.4"
  }
 },
 "nbformat": 4,
 "nbformat_minor": 5
}
