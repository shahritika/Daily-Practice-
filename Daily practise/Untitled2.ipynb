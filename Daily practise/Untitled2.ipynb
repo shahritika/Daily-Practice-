{
 "cells": [
  {
   "cell_type": "markdown",
   "id": "3b22e71f-5cf6-46ff-abf5-d70959774f0f",
   "metadata": {},
   "source": [
    "# Type of Integer"
   ]
  },
  {
   "cell_type": "code",
   "execution_count": 12,
   "id": "b25e65cd-7ef9-459f-8177-d16f5010e2df",
   "metadata": {},
   "outputs": [
    {
     "name": "stdout",
     "output_type": "stream",
     "text": [
      "5.2 <class 'float'>\n"
     ]
    }
   ],
   "source": [
    "a=5\n",
    "a=5.2\n",
    "print(a, type(a))"
   ]
  },
  {
   "cell_type": "code",
   "execution_count": 14,
   "id": "a70c53d6-3c4d-4931-b64a-1955ea7a5fb6",
   "metadata": {},
   "outputs": [
    {
     "name": "stdout",
     "output_type": "stream",
     "text": [
      "(2+5j) <class 'complex'>\n"
     ]
    }
   ],
   "source": [
    "a=2+5j\n",
    "print(a,type(a))"
   ]
  },
  {
   "cell_type": "markdown",
   "id": "1cd54682-419d-4b07-bec7-7165f3387ded",
   "metadata": {},
   "source": [
    "# String"
   ]
  },
  {
   "cell_type": "code",
   "execution_count": 34,
   "id": "b7be2ee3-0776-4e65-8626-f6929f25753c",
   "metadata": {},
   "outputs": [
    {
     "name": "stdout",
     "output_type": "stream",
     "text": [
      "Hello Ritika <class 'str'>\n"
     ]
    }
   ],
   "source": [
    "s=\"Hello Ritika\"\n",
    "print(s, type(s))"
   ]
  },
  {
   "cell_type": "code",
   "execution_count": 32,
   "id": "f858d4c3-2b0b-4abd-8259-503ee75dd9cc",
   "metadata": {},
   "outputs": [
    {
     "name": "stdout",
     "output_type": "stream",
     "text": [
      "Hello Ritika <class 'str'>\n"
     ]
    }
   ],
   "source": [
    "S='\"Hello Ritika\"'\n",
    "print(s, type(s))"
   ]
  },
  {
   "cell_type": "markdown",
   "id": "abeff2b1-b4ab-487d-8b76-33f7bfbc77e6",
   "metadata": {},
   "source": [
    "# Triple quotation"
   ]
  },
  {
   "cell_type": "code",
   "execution_count": 40,
   "id": "cf0620da-93df-45c2-871c-6ea5f7eac8b0",
   "metadata": {},
   "outputs": [
    {
     "name": "stdout",
     "output_type": "stream",
     "text": [
      "\n",
      "Hi My name is Ritika Shah\n",
      "I am learning python rn\n",
      "I have to learn Excel, sql, power BI and Apache airflow or amazon redshift anyone of it\n",
      " <class 'str'>\n"
     ]
    }
   ],
   "source": [
    "S='''\n",
    "Hi My name is Ritika Shah\n",
    "I am learning python rn\n",
    "I have to learn Excel, sql, power BI and Apache airflow or amazon redshift anyone of it\n",
    "'''\n",
    "print(S, type(S))\n"
   ]
  },
  {
   "cell_type": "markdown",
   "id": "15a1ae96-71a8-4d02-9acd-15089861b178",
   "metadata": {},
   "source": [
    "# List"
   ]
  },
  {
   "cell_type": "code",
   "execution_count": 62,
   "id": "76778547-7d66-42ff-ab20-155087c4bcbf",
   "metadata": {},
   "outputs": [
    {
     "name": "stdout",
     "output_type": "stream",
     "text": [
      "[1, 2.2, 2] <class 'list'>\n"
     ]
    }
   ],
   "source": [
    "a = [1,2.2,'ws']\n",
    "a[2]=2 # list is mutable data so, I am changing 'ws' data to 2 numeric form\n",
    "print(a, type(a))"
   ]
  },
  {
   "cell_type": "markdown",
   "id": "24d9cd47-342c-42ff-9ecd-912d6a6af80b",
   "metadata": {},
   "source": [
    "# Tuple"
   ]
  },
  {
   "cell_type": "code",
   "execution_count": 71,
   "id": "07c9bb48-32ce-4ee6-9d52-4551eda9bb19",
   "metadata": {},
   "outputs": [
    {
     "name": "stdout",
     "output_type": "stream",
     "text": [
      "(5, 'tuple', 4) <class 'tuple'>\n"
     ]
    }
   ],
   "source": [
    "t = (5,'tuple', 4) # we have to put multiple data to do tuple\n",
    "print(t, type(t))"
   ]
  },
  {
   "cell_type": "markdown",
   "id": "7cdc314b-85c5-4558-b0ee-62524594ae2b",
   "metadata": {},
   "source": [
    "# Dicitonary"
   ]
  },
  {
   "cell_type": "code",
   "execution_count": 97,
   "id": "e5f7ca97-c281-4f82-84e2-60f47babe505",
   "metadata": {},
   "outputs": [
    {
     "name": "stdout",
     "output_type": "stream",
     "text": [
      "{'course_name': 'python'} <class 'dict'>\n",
      "python\n"
     ]
    }
   ],
   "source": [
    "d ={\n",
    "    'course_name':'python'\n",
    "   \n",
    "}\n",
    "print(d, type(d)) # this is mutable data coz we can change the data in the dictionary\n",
    "print(d['course_name'])"
   ]
  },
  {
   "cell_type": "markdown",
   "id": "99f164aa-54e4-464b-b471-2d854369ea16",
   "metadata": {},
   "source": [
    "# Set"
   ]
  },
  {
   "cell_type": "code",
   "execution_count": 110,
   "id": "4f49721a-5d16-47ae-a0ca-33c3e6a3a8cd",
   "metadata": {},
   "outputs": [
    {
     "name": "stdout",
     "output_type": "stream",
     "text": [
      "{1, 2, 3}\n"
     ]
    }
   ],
   "source": [
    "x = {1,2,3} # we use curly bracket for set and dictonary. Set don't keep same value.\n",
    "print(x)"
   ]
  },
  {
   "cell_type": "code",
   "execution_count": 118,
   "id": "0bb64433-d8d1-4e20-b4b1-0521f2b5f143",
   "metadata": {},
   "outputs": [
    {
     "name": "stdout",
     "output_type": "stream",
     "text": [
      "{10, 20, 30} <class 'set'>\n"
     ]
    }
   ],
   "source": [
    "X = {10,20,30,10}\n",
    "print(X, type(X))"
   ]
  },
  {
   "cell_type": "code",
   "execution_count": null,
   "id": "150de78e-8d48-4187-8750-70ce8712c526",
   "metadata": {},
   "outputs": [],
   "source": []
  }
 ],
 "metadata": {
  "kernelspec": {
   "display_name": "Python 3 (ipykernel)",
   "language": "python",
   "name": "python3"
  },
  "language_info": {
   "codemirror_mode": {
    "name": "ipython",
    "version": 3
   },
   "file_extension": ".py",
   "mimetype": "text/x-python",
   "name": "python",
   "nbconvert_exporter": "python",
   "pygments_lexer": "ipython3",
   "version": "3.12.4"
  }
 },
 "nbformat": 4,
 "nbformat_minor": 5
}
