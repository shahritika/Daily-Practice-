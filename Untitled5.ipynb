{
 "cells": [
  {
   "cell_type": "code",
   "execution_count": 1,
   "id": "e5df5572-82b1-462b-acd3-d5cb820457ef",
   "metadata": {},
   "outputs": [],
   "source": [
    "# Print a simple message"
   ]
  },
  {
   "cell_type": "code",
   "execution_count": 3,
   "id": "63cbfd4c-a95a-4fe8-85f1-255c99d88b52",
   "metadata": {},
   "outputs": [
    {
     "name": "stdout",
     "output_type": "stream",
     "text": [
      "Hello, World!\n"
     ]
    }
   ],
   "source": [
    "print(\"Hello, World!\")"
   ]
  },
  {
   "cell_type": "code",
   "execution_count": 11,
   "id": "42f4dd22-c23f-42ad-b50a-23d7f7a9af2c",
   "metadata": {},
   "outputs": [
    {
     "name": "stdout",
     "output_type": "stream",
     "text": [
      "f a is {a} and b is {b}\n",
      "a is 20 and b is 23 and their sum is 43\n",
      "a is 20 and b is 23 and their sum 43\n"
     ]
    }
   ],
   "source": [
    "# assign a variable\n",
    "a = 20\n",
    "b = 23\n",
    "\n",
    "#print the value using an f string (formatted string literals)\n",
    "print(\"f a is {a} and b is {b}\")\n",
    "print(\"a is {} and b is {} and their sum is {}\". format(a, b, a+b)) # uses the format () method\n",
    "print(\"a is %d and b is %d and their sum %d\" % (a, b, a+b)) # % formatting (old Style)"
   ]
  },
  {
   "cell_type": "code",
   "execution_count": 15,
   "id": "8ebcc04f-c74f-4a1a-843c-32decaab8131",
   "metadata": {},
   "outputs": [
    {
     "name": "stdout",
     "output_type": "stream",
     "text": [
      "True\n"
     ]
    },
    {
     "data": {
      "text/plain": [
       "5.0"
      ]
     },
     "execution_count": 15,
     "metadata": {},
     "output_type": "execute_result"
    }
   ],
   "source": [
    "# Type casting\n",
    "number = 5.0\n",
    "#type(number)\n",
    "print(number.is_integer()) # True\n",
    "number"
   ]
  },
  {
   "cell_type": "code",
   "execution_count": 19,
   "id": "d31b2748-88d1-46da-ae70-116ff5d05822",
   "metadata": {},
   "outputs": [
    {
     "data": {
      "text/plain": [
       "(3, 4)"
      ]
     },
     "execution_count": 19,
     "metadata": {},
     "output_type": "execute_result"
    }
   ],
   "source": [
    "ratio = (0.75).as_integer_ratio() #(3, 4)\n",
    "ratio"
   ]
  },
  {
   "cell_type": "markdown",
   "id": "282a6fe0-3cdf-49f5-9255-a398cbde85fa",
   "metadata": {},
   "source": [
    "# Declaring Variable"
   ]
  },
  {
   "cell_type": "code",
   "execution_count": 26,
   "id": "a0d880e4-06d3-4b32-82a8-b8556300fcc8",
   "metadata": {},
   "outputs": [
    {
     "name": "stdout",
     "output_type": "stream",
     "text": [
      "x is of type; <class 'int'>\n"
     ]
    }
   ],
   "source": [
    "# Integer\n",
    "x = 10\n",
    "print(\"x is of type;\", type(x))"
   ]
  },
  {
   "cell_type": "code",
   "execution_count": 28,
   "id": "ce4ba6b6-a296-4735-9572-95cbf2e3e46b",
   "metadata": {},
   "outputs": [
    {
     "name": "stdout",
     "output_type": "stream",
     "text": [
      "y is of type: <class 'float'>\n"
     ]
    }
   ],
   "source": [
    "# float\n",
    "y = 3.14\n",
    "print(\"y is of type:\", type(y))"
   ]
  },
  {
   "cell_type": "code",
   "execution_count": 30,
   "id": "5cc9ca21-a4b2-4851-9472-cd17404847ab",
   "metadata": {},
   "outputs": [
    {
     "name": "stdout",
     "output_type": "stream",
     "text": [
      "name is of type: <class 'str'>\n"
     ]
    }
   ],
   "source": [
    "# string\n",
    "name = \"John\"\n",
    "print(\"name is of type:\", type(name))"
   ]
  },
  {
   "cell_type": "code",
   "execution_count": 39,
   "id": "bebffa30-723e-42c2-a8d8-8b7d051dec12",
   "metadata": {},
   "outputs": [
    {
     "name": "stdout",
     "output_type": "stream",
     "text": [
      "is_active is of type: <class 'bool'>\n"
     ]
    }
   ],
   "source": [
    "# Boolean\n",
    "is_active = True\n",
    "print (\"is_active is of type:\", type(is_active))"
   ]
  },
  {
   "cell_type": "code",
   "execution_count": null,
   "id": "2dd9faa4-c90b-402a-bd9b-8a8134fc0ccc",
   "metadata": {},
   "outputs": [],
   "source": []
  },
  {
   "cell_type": "code",
   "execution_count": null,
   "id": "0d9f060b-2212-4b25-8fcc-6ae1b694c793",
   "metadata": {},
   "outputs": [],
   "source": []
  }
 ],
 "metadata": {
  "kernelspec": {
   "display_name": "anaconda-2024.02-py310",
   "language": "python",
   "name": "conda-env-anaconda-2024.02-py310-py"
  },
  "language_info": {
   "codemirror_mode": {
    "name": "ipython",
    "version": 3
   },
   "file_extension": ".py",
   "mimetype": "text/x-python",
   "name": "python",
   "nbconvert_exporter": "python",
   "pygments_lexer": "ipython3",
   "version": "3.10.14"
  }
 },
 "nbformat": 4,
 "nbformat_minor": 5
}
